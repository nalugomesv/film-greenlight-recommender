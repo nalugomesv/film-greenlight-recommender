{
 "cells": [
  {
   "cell_type": "markdown",
   "id": "a76f2bad",
   "metadata": {},
   "source": [
    "# 02 — Overview (NLP) · Film Greenlight Recommender\n",
    "\n",
    "**Objetivo** — Usar a coluna *Overview* como fonte textual para inferir **gênero** via\n",
    "TF-IDF e classificadores lineares (baseline multilabel), e salvar artefatos para uso no pipeline.\n",
    "\n",
    "**Entradas** — `data/raw/imdb.csv`  \n",
    "**Saídas** —\n",
    "- Modelos: `models/overview_tfidf_svc.pkl`, `models/overview_tfidf_logreg.pkl`, `models/tfidf.pkl`\n",
    "- Features: `data/processed/features_text_csr.npz`, `data/processed/tfidf_vocab.parquet`\n",
    "- Relatórios: `reports/nlp_per_class_svc.csv`, `reports/nlp_per_class_logreg.csv`\n",
    "\n",
    "**Escopo**\n",
    "- Preparação: remoção de nulos em `Overview` e `Genre`; construção de `Genre_list` (multilabel).\n",
    "- Filtro de classes: manter gêneros com **≥ 50** ocorrências para reduzir classes raras.\n",
    "- Representação: TF-IDF de *Overview* (`ngram_range=(1,3)`, `max_features=20000`, `min_df=2`, `max_df=0.95`,\n",
    "`strip_accents='ascii'`, `stop_words='english'`).\n",
    "- Baselines: One-vs-Rest com **LinearSVC** e **Logistic Regression** (solver `saga`, `class_weight='balanced'`).\n",
    "- Avaliação: **F1-micro**, **F1-macro** e relatório **por classe**; exportação das tabelas em CSV.\n",
    "- Exportação de artefatos: vetorizador, matriz esparsa e vocabulário para integração posterior.\n",
    "- (Opcional) *Threshold tuning* por classe usando probabilidades da Logistic Regression.\n",
    "\n",
    "Autora: *Ana Luiza Gomes Vieira* · Execução: *Set/2025*"
   ]
  },
  {
   "cell_type": "markdown",
   "id": "72c4ef8d",
   "metadata": {},
   "source": [
    "## Setup"
   ]
  },
  {
   "cell_type": "code",
   "execution_count": null,
   "id": "08f0c9f5",
   "metadata": {},
   "outputs": [],
   "source": [
    "# Bibliotecas padrão\n",
    "from collections import Counter\n",
    "from pathlib import Path\n",
    "import warnings\n",
    "\n",
    "# Bibliotecas de terceiros\n",
    "import joblib\n",
    "import numpy as np\n",
    "import pandas as pd\n",
    "from sklearn.feature_extraction.text import TfidfVectorizer\n",
    "from sklearn.linear_model import LogisticRegression\n",
    "from sklearn.metrics import classification_report, f1_score\n",
    "from sklearn.model_selection import train_test_split\n",
    "from sklearn.multiclass import OneVsRestClassifier\n",
    "from sklearn.pipeline import Pipeline\n",
    "from sklearn.preprocessing import MultiLabelBinarizer\n",
    "from sklearn.svm import LinearSVC"
   ]
  },
  {
   "cell_type": "code",
   "execution_count": 21,
   "id": "0cf27df0",
   "metadata": {},
   "outputs": [],
   "source": [
    "# Configurações globais\n",
    "SEED = 42\n",
    "PROJECT_ROOT = Path.cwd().parent\n",
    "DATA_RAW = PROJECT_ROOT / \"data\" / \"raw\" / \"imdb.csv\"\n",
    "MODELS_DIR = PROJECT_ROOT / \"models\"\n",
    "REPORTS_DIR = PROJECT_ROOT / \"reports\"\n",
    "FEATURES_DIR = PROJECT_ROOT / \"data\" / \"processed\"\n",
    "for p in [MODELS_DIR, REPORTS_DIR, FEATURES_DIR]:\n",
    "    p.mkdir(parents=True, exist_ok=True)\n",
    "\n",
    "assert DATA_RAW.exists(), f\"Arquivo não encontrado: {DATA_RAW}\"\n",
    "\n",
    "warnings.filterwarnings(\"ignore\")"
   ]
  },
  {
   "cell_type": "code",
   "execution_count": 3,
   "id": "caf1b632",
   "metadata": {},
   "outputs": [],
   "source": [
    "df = pd.read_csv(DATA_RAW)\n",
    "df = df.dropna(subset=[\"Overview\", \"Genre\"]).copy()\n",
    "df[\"Genre_list\"] = df[\"Genre\"].str.split(\", \").apply(lambda xs: [x.strip() for x in xs])"
   ]
  },
  {
   "cell_type": "code",
   "execution_count": 4,
   "id": "9c4eb74f",
   "metadata": {},
   "outputs": [
    {
     "data": {
      "text/html": [
       "<div>\n",
       "<style scoped>\n",
       "    .dataframe tbody tr th:only-of-type {\n",
       "        vertical-align: middle;\n",
       "    }\n",
       "\n",
       "    .dataframe tbody tr th {\n",
       "        vertical-align: top;\n",
       "    }\n",
       "\n",
       "    .dataframe thead th {\n",
       "        text-align: right;\n",
       "    }\n",
       "</style>\n",
       "<table border=\"1\" class=\"dataframe\">\n",
       "  <thead>\n",
       "    <tr style=\"text-align: right;\">\n",
       "      <th></th>\n",
       "      <th>Unnamed: 0</th>\n",
       "      <th>Series_Title</th>\n",
       "      <th>Released_Year</th>\n",
       "      <th>Certificate</th>\n",
       "      <th>Runtime</th>\n",
       "      <th>Genre</th>\n",
       "      <th>IMDB_Rating</th>\n",
       "      <th>Overview</th>\n",
       "      <th>Meta_score</th>\n",
       "      <th>Director</th>\n",
       "      <th>Star1</th>\n",
       "      <th>Star2</th>\n",
       "      <th>Star3</th>\n",
       "      <th>Star4</th>\n",
       "      <th>No_of_Votes</th>\n",
       "      <th>Gross</th>\n",
       "      <th>Genre_list</th>\n",
       "    </tr>\n",
       "  </thead>\n",
       "  <tbody>\n",
       "    <tr>\n",
       "      <th>0</th>\n",
       "      <td>1</td>\n",
       "      <td>The Godfather</td>\n",
       "      <td>1972</td>\n",
       "      <td>A</td>\n",
       "      <td>175 min</td>\n",
       "      <td>Crime, Drama</td>\n",
       "      <td>9.2</td>\n",
       "      <td>An organized crime dynasty's aging patriarch t...</td>\n",
       "      <td>100.0</td>\n",
       "      <td>Francis Ford Coppola</td>\n",
       "      <td>Marlon Brando</td>\n",
       "      <td>Al Pacino</td>\n",
       "      <td>James Caan</td>\n",
       "      <td>Diane Keaton</td>\n",
       "      <td>1620367</td>\n",
       "      <td>134,966,411</td>\n",
       "      <td>[Crime, Drama]</td>\n",
       "    </tr>\n",
       "    <tr>\n",
       "      <th>1</th>\n",
       "      <td>2</td>\n",
       "      <td>The Dark Knight</td>\n",
       "      <td>2008</td>\n",
       "      <td>UA</td>\n",
       "      <td>152 min</td>\n",
       "      <td>Action, Crime, Drama</td>\n",
       "      <td>9.0</td>\n",
       "      <td>When the menace known as the Joker wreaks havo...</td>\n",
       "      <td>84.0</td>\n",
       "      <td>Christopher Nolan</td>\n",
       "      <td>Christian Bale</td>\n",
       "      <td>Heath Ledger</td>\n",
       "      <td>Aaron Eckhart</td>\n",
       "      <td>Michael Caine</td>\n",
       "      <td>2303232</td>\n",
       "      <td>534,858,444</td>\n",
       "      <td>[Action, Crime, Drama]</td>\n",
       "    </tr>\n",
       "    <tr>\n",
       "      <th>2</th>\n",
       "      <td>3</td>\n",
       "      <td>The Godfather: Part II</td>\n",
       "      <td>1974</td>\n",
       "      <td>A</td>\n",
       "      <td>202 min</td>\n",
       "      <td>Crime, Drama</td>\n",
       "      <td>9.0</td>\n",
       "      <td>The early life and career of Vito Corleone in ...</td>\n",
       "      <td>90.0</td>\n",
       "      <td>Francis Ford Coppola</td>\n",
       "      <td>Al Pacino</td>\n",
       "      <td>Robert De Niro</td>\n",
       "      <td>Robert Duvall</td>\n",
       "      <td>Diane Keaton</td>\n",
       "      <td>1129952</td>\n",
       "      <td>57,300,000</td>\n",
       "      <td>[Crime, Drama]</td>\n",
       "    </tr>\n",
       "    <tr>\n",
       "      <th>3</th>\n",
       "      <td>4</td>\n",
       "      <td>12 Angry Men</td>\n",
       "      <td>1957</td>\n",
       "      <td>U</td>\n",
       "      <td>96 min</td>\n",
       "      <td>Crime, Drama</td>\n",
       "      <td>9.0</td>\n",
       "      <td>A jury holdout attempts to prevent a miscarria...</td>\n",
       "      <td>96.0</td>\n",
       "      <td>Sidney Lumet</td>\n",
       "      <td>Henry Fonda</td>\n",
       "      <td>Lee J. Cobb</td>\n",
       "      <td>Martin Balsam</td>\n",
       "      <td>John Fiedler</td>\n",
       "      <td>689845</td>\n",
       "      <td>4,360,000</td>\n",
       "      <td>[Crime, Drama]</td>\n",
       "    </tr>\n",
       "    <tr>\n",
       "      <th>4</th>\n",
       "      <td>5</td>\n",
       "      <td>The Lord of the Rings: The Return of the King</td>\n",
       "      <td>2003</td>\n",
       "      <td>U</td>\n",
       "      <td>201 min</td>\n",
       "      <td>Action, Adventure, Drama</td>\n",
       "      <td>8.9</td>\n",
       "      <td>Gandalf and Aragorn lead the World of Men agai...</td>\n",
       "      <td>94.0</td>\n",
       "      <td>Peter Jackson</td>\n",
       "      <td>Elijah Wood</td>\n",
       "      <td>Viggo Mortensen</td>\n",
       "      <td>Ian McKellen</td>\n",
       "      <td>Orlando Bloom</td>\n",
       "      <td>1642758</td>\n",
       "      <td>377,845,905</td>\n",
       "      <td>[Action, Adventure, Drama]</td>\n",
       "    </tr>\n",
       "  </tbody>\n",
       "</table>\n",
       "</div>"
      ],
      "text/plain": [
       "   Unnamed: 0                                   Series_Title Released_Year  \\\n",
       "0           1                                  The Godfather          1972   \n",
       "1           2                                The Dark Knight          2008   \n",
       "2           3                         The Godfather: Part II          1974   \n",
       "3           4                                   12 Angry Men          1957   \n",
       "4           5  The Lord of the Rings: The Return of the King          2003   \n",
       "\n",
       "  Certificate  Runtime                     Genre  IMDB_Rating  \\\n",
       "0           A  175 min              Crime, Drama          9.2   \n",
       "1          UA  152 min      Action, Crime, Drama          9.0   \n",
       "2           A  202 min              Crime, Drama          9.0   \n",
       "3           U   96 min              Crime, Drama          9.0   \n",
       "4           U  201 min  Action, Adventure, Drama          8.9   \n",
       "\n",
       "                                            Overview  Meta_score  \\\n",
       "0  An organized crime dynasty's aging patriarch t...       100.0   \n",
       "1  When the menace known as the Joker wreaks havo...        84.0   \n",
       "2  The early life and career of Vito Corleone in ...        90.0   \n",
       "3  A jury holdout attempts to prevent a miscarria...        96.0   \n",
       "4  Gandalf and Aragorn lead the World of Men agai...        94.0   \n",
       "\n",
       "               Director           Star1            Star2          Star3  \\\n",
       "0  Francis Ford Coppola   Marlon Brando        Al Pacino     James Caan   \n",
       "1     Christopher Nolan  Christian Bale     Heath Ledger  Aaron Eckhart   \n",
       "2  Francis Ford Coppola       Al Pacino   Robert De Niro  Robert Duvall   \n",
       "3          Sidney Lumet     Henry Fonda      Lee J. Cobb  Martin Balsam   \n",
       "4         Peter Jackson     Elijah Wood  Viggo Mortensen   Ian McKellen   \n",
       "\n",
       "           Star4  No_of_Votes        Gross                  Genre_list  \n",
       "0   Diane Keaton      1620367  134,966,411              [Crime, Drama]  \n",
       "1  Michael Caine      2303232  534,858,444      [Action, Crime, Drama]  \n",
       "2   Diane Keaton      1129952   57,300,000              [Crime, Drama]  \n",
       "3   John Fiedler       689845    4,360,000              [Crime, Drama]  \n",
       "4  Orlando Bloom      1642758  377,845,905  [Action, Adventure, Drama]  "
      ]
     },
     "execution_count": 4,
     "metadata": {},
     "output_type": "execute_result"
    }
   ],
   "source": [
    "df.head()"
   ]
  },
  {
   "cell_type": "markdown",
   "id": "07033b5e",
   "metadata": {},
   "source": [
    "## 1. Filtro de Gêneros (Frequência Mínima)"
   ]
  },
  {
   "cell_type": "code",
   "execution_count": null,
   "id": "5d5eb33f",
   "metadata": {},
   "outputs": [],
   "source": [
    "MIN_COUNT = 50\n",
    "counts = pd.Series([g for xs in df[\"Genre_list\"] for g in xs]).value_counts()\n",
    "keep = set(counts[counts >= MIN_COUNT].index)\n",
    "df[\"Genre_list\"] = df[\"Genre_list\"].apply(lambda xs: [g for g in xs if g in keep])\n",
    "df = df[df[\"Genre_list\"].map(len) > 0].reset_index(drop=True)"
   ]
  },
  {
   "cell_type": "markdown",
   "id": "b341d932",
   "metadata": {},
   "source": [
    "## 2. Alvo Multilabel e Divisão Treino/Teste"
   ]
  },
  {
   "cell_type": "code",
   "execution_count": null,
   "id": "07819063",
   "metadata": {},
   "outputs": [],
   "source": [
    "X = df[\"Overview\"].values\n",
    "mlb = MultiLabelBinarizer()\n",
    "Y = mlb.fit_transform(df[\"Genre_list\"])\n",
    "class_names = mlb.classes_"
   ]
  },
  {
   "cell_type": "code",
   "execution_count": null,
   "id": "ec5fc379",
   "metadata": {},
   "outputs": [],
   "source": [
    "X_train, X_test, Y_train, Y_test = train_test_split(\n",
    "    X, Y, test_size=0.2, random_state=SEED\n",
    ")"
   ]
  },
  {
   "cell_type": "markdown",
   "id": "3a289d7e",
   "metadata": {},
   "source": [
    "## 3. Representação TF-IDF"
   ]
  },
  {
   "cell_type": "code",
   "execution_count": null,
   "id": "98c7b9be",
   "metadata": {},
   "outputs": [],
   "source": [
    "svc_pipe = Pipeline([\n",
    "    (\"tfidf\", TfidfVectorizer(\n",
    "        stop_words=\"english\",\n",
    "        strip_accents=\"ascii\",\n",
    "        max_features=20000,\n",
    "        ngram_range=(1,3),\n",
    "        min_df=2,\n",
    "        max_df=0.95,\n",
    "    )),\n",
    "    (\"clf\", OneVsRestClassifier(LinearSVC(random_state=SEED)))\n",
    "])"
   ]
  },
  {
   "cell_type": "code",
   "execution_count": 9,
   "id": "b80a4853",
   "metadata": {},
   "outputs": [],
   "source": [
    "svc_pipe.fit(X_train, Y_train)\n",
    "Y_pred_svc = svc_pipe.predict(X_test)"
   ]
  },
  {
   "cell_type": "markdown",
   "id": "0e39ca70",
   "metadata": {},
   "source": [
    "## 4. Baselines de classificação"
   ]
  },
  {
   "cell_type": "markdown",
   "id": "da4ec896",
   "metadata": {},
   "source": [
    "### 4.1 LinearSVC (One-vs-Rest)"
   ]
  },
  {
   "cell_type": "code",
   "execution_count": 10,
   "id": "701a3ca7",
   "metadata": {},
   "outputs": [
    {
     "name": "stdout",
     "output_type": "stream",
     "text": [
      "[LinearSVC] F1-micro: 0.48043184885290147\n",
      "[LinearSVC] F1-macro: 0.2267174691676371\n",
      "\n",
      "[LinearSVC] Relatório por gênero:\n",
      "\n",
      "              precision    recall  f1-score   support\n",
      "\n",
      "      Action       0.57      0.24      0.34        33\n",
      "   Adventure       0.60      0.43      0.50        28\n",
      "   Animation       0.50      0.12      0.19        17\n",
      "   Biography       1.00      0.09      0.16        23\n",
      "      Comedy       0.38      0.15      0.21        41\n",
      "       Crime       0.61      0.33      0.43        42\n",
      "       Drama       0.79      0.86      0.82       148\n",
      "      Family       1.00      0.10      0.18        10\n",
      "     Fantasy       0.00      0.00      0.00        18\n",
      "     History       1.00      0.08      0.15        12\n",
      "     Mystery       0.50      0.08      0.13        26\n",
      "     Romance       0.14      0.03      0.05        35\n",
      "      Sci-Fi       1.00      0.09      0.17        11\n",
      "    Thriller       0.14      0.04      0.06        26\n",
      "         War       0.00      0.00      0.00         9\n",
      "\n",
      "   micro avg       0.68      0.37      0.48       479\n",
      "   macro avg       0.55      0.18      0.23       479\n",
      "weighted avg       0.59      0.37      0.40       479\n",
      " samples avg       0.66      0.42      0.48       479\n",
      "\n"
     ]
    }
   ],
   "source": [
    "print(\"[LinearSVC] F1-micro:\", f1_score(Y_test, Y_pred_svc, average=\"micro\"))\n",
    "print(\"[LinearSVC] F1-macro:\", f1_score(Y_test, Y_pred_svc, average=\"macro\"))\n",
    "print(\"\\n[LinearSVC] Relatório por gênero:\\n\")\n",
    "print(classification_report(Y_test, Y_pred_svc, target_names=class_names, zero_division=0))"
   ]
  },
  {
   "cell_type": "markdown",
   "id": "746d00bb",
   "metadata": {},
   "source": [
    "### 4.2 Logistic Regression (One-vs-Rest)"
   ]
  },
  {
   "cell_type": "code",
   "execution_count": null,
   "id": "de48bcca",
   "metadata": {},
   "outputs": [],
   "source": [
    "logreg_pipe = Pipeline([\n",
    "    (\"tfidf\", TfidfVectorizer(\n",
    "        stop_words=\"english\",\n",
    "        strip_accents=\"ascii\",\n",
    "        max_features=20000,\n",
    "        ngram_range=(1,3),\n",
    "        min_df=2,\n",
    "        max_df=0.95,\n",
    "    )),\n",
    "    (\"clf\", OneVsRestClassifier(\n",
    "        LogisticRegression(\n",
    "            solver=\"saga\", max_iter=2000, class_weight=\"balanced\", n_jobs=-1, random_state=SEED\n",
    "        )\n",
    "    )),\n",
    "])"
   ]
  },
  {
   "cell_type": "code",
   "execution_count": 22,
   "id": "1efa6e34",
   "metadata": {},
   "outputs": [],
   "source": [
    "logreg_pipe.fit(X_train, Y_train)\n",
    "Y_pred_lr = logreg_pipe.predict(X_test)"
   ]
  },
  {
   "cell_type": "code",
   "execution_count": 13,
   "id": "e125163e",
   "metadata": {},
   "outputs": [
    {
     "name": "stdout",
     "output_type": "stream",
     "text": [
      "\n",
      "[LogReg] F1-micro: 0.42560865644724977\n",
      "[LogReg] F1-macro: 0.3029859953780284\n",
      "\n",
      "[LogReg] Relatório por gênero:\n",
      "\n",
      "              precision    recall  f1-score   support\n",
      "\n",
      "      Action       0.52      0.42      0.47        33\n",
      "   Adventure       0.45      0.61      0.52        28\n",
      "   Animation       0.22      0.47      0.30        17\n",
      "   Biography       0.56      0.22      0.31        23\n",
      "      Comedy       0.35      0.34      0.35        41\n",
      "       Crime       0.53      0.50      0.51        42\n",
      "       Drama       0.80      0.77      0.79       148\n",
      "      Family       0.33      0.10      0.15        10\n",
      "     Fantasy       0.09      1.00      0.17        18\n",
      "     History       0.11      0.33      0.17        12\n",
      "     Mystery       0.38      0.19      0.26        26\n",
      "     Romance       0.45      0.26      0.33        35\n",
      "      Sci-Fi       0.00      0.00      0.00        11\n",
      "    Thriller       0.25      0.23      0.24        26\n",
      "         War       0.00      0.00      0.00         9\n",
      "\n",
      "   micro avg       0.37      0.49      0.43       479\n",
      "   macro avg       0.34      0.36      0.30       479\n",
      "weighted avg       0.50      0.49      0.47       479\n",
      " samples avg       0.38      0.52      0.41       479\n",
      "\n"
     ]
    }
   ],
   "source": [
    "print(\"\\n[LogReg] F1-micro:\", f1_score(Y_test, Y_pred_lr, average=\"micro\"))\n",
    "print(\"[LogReg] F1-macro:\", f1_score(Y_test, Y_pred_lr, average=\"macro\"))\n",
    "print(\"\\n[LogReg] Relatório por gênero:\\n\")\n",
    "print(classification_report(Y_test, Y_pred_lr, target_names=class_names, zero_division=0))"
   ]
  },
  {
   "cell_type": "markdown",
   "id": "e79ed60d",
   "metadata": {},
   "source": [
    "## 5. Métrica por classe e relatórios"
   ]
  },
  {
   "cell_type": "code",
   "execution_count": null,
   "id": "3db29225",
   "metadata": {},
   "outputs": [],
   "source": [
    "def per_class_f1(y_true, y_pred, names):\n",
    "    from sklearn.metrics import precision_recall_fscore_support\n",
    "    p, r, f1, s = precision_recall_fscore_support(y_true, y_pred, average=None, zero_division=0)\n",
    "    out = pd.DataFrame({\"class\": names, \"precision\": p, \"recall\": r, \"f1\": f1, \"support\": s})\n",
    "    return out.sort_values(\"f1\", ascending=False)\n",
    "\n",
    "svc_per_class = per_class_f1(Y_test, Y_pred_svc, class_names)\n",
    "lr_per_class = per_class_f1(Y_test, Y_pred_lr, class_names)\n",
    "\n",
    "svc_per_class.to_csv(REPORTS_DIR / \"nlp_per_class_svc.csv\", index=False)\n",
    "lr_per_class.to_csv(REPORTS_DIR / \"nlp_per_class_logreg.csv\", index=False)\n"
   ]
  },
  {
   "cell_type": "markdown",
   "id": "894a8ba7",
   "metadata": {},
   "source": [
    "## 6. Exportação de artefatos"
   ]
  },
  {
   "cell_type": "code",
   "execution_count": 15,
   "id": "976aa64a",
   "metadata": {},
   "outputs": [
    {
     "data": {
      "text/plain": [
       "['c:\\\\Users\\\\analu\\\\Documents\\\\film-greenlight-recommender\\\\models\\\\overview_tfidf_logreg.pkl']"
      ]
     },
     "execution_count": 15,
     "metadata": {},
     "output_type": "execute_result"
    }
   ],
   "source": [
    "joblib.dump(svc_pipe, MODELS_DIR / \"overview_tfidf_svc.pkl\")\n",
    "joblib.dump(logreg_pipe, MODELS_DIR / \"overview_tfidf_logreg.pkl\")"
   ]
  },
  {
   "cell_type": "code",
   "execution_count": null,
   "id": "33e31a12",
   "metadata": {},
   "outputs": [],
   "source": [
    "tfidf = TfidfVectorizer(\n",
    "    stop_words=\"english\", strip_accents=\"ascii\",\n",
    "    max_features=20000, ngram_range=(1,3),\n",
    "    min_df=2, max_df=0.95\n",
    ").fit(df[\"Overview\"].values)"
   ]
  },
  {
   "cell_type": "code",
   "execution_count": 17,
   "id": "9904a3ff",
   "metadata": {},
   "outputs": [],
   "source": [
    "import scipy.sparse as sp\n",
    "X_tfidf_full = tfidf.transform(df[\"Overview\"].values)"
   ]
  },
  {
   "cell_type": "code",
   "execution_count": 18,
   "id": "e5f8fb82",
   "metadata": {},
   "outputs": [
    {
     "name": "stdout",
     "output_type": "stream",
     "text": [
      "\n",
      "Artefatos salvos em: c:\\Users\\analu\\Documents\\film-greenlight-recommender\\models e c:\\Users\\analu\\Documents\\film-greenlight-recommender\\data\\processed\n"
     ]
    }
   ],
   "source": [
    "from scipy import sparse\n",
    "sparse.save_npz(FEATURES_DIR / \"features_text_csr.npz\", X_tfidf_full)\n",
    "pd.DataFrame({\"vocab\": tfidf.get_feature_names_out()}).to_parquet(FEATURES_DIR / \"tfidf_vocab.parquet\", index=False)\n",
    "joblib.dump(tfidf, MODELS_DIR / \"tfidf.pkl\")\n",
    "\n",
    "print(\"\\nArtefatos salvos em:\", MODELS_DIR, \"e\", FEATURES_DIR)"
   ]
  },
  {
   "cell_type": "markdown",
   "id": "e0313f3b",
   "metadata": {},
   "source": [
    "## 7. Threshold tuning"
   ]
  },
  {
   "cell_type": "code",
   "execution_count": 19,
   "id": "212362f2",
   "metadata": {},
   "outputs": [
    {
     "name": "stdout",
     "output_type": "stream",
     "text": [
      "F1-macro @0.50: 0.3029859953780284\n"
     ]
    }
   ],
   "source": [
    "proba = logreg_pipe.predict_proba(X_test)\n",
    "thr = np.full(proba.shape[1], 0.5)\n",
    "Y_pred_thr = (proba >= thr).astype(int)\n",
    "print(\"F1-macro @0.50:\", f1_score(Y_test, Y_pred_thr, average=\"macro\"))"
   ]
  },
  {
   "cell_type": "markdown",
   "id": "4b726ae8",
   "metadata": {},
   "source": [
    "#### Análise de *Overview* (NLP)\n",
    "A coluna `Overview` foi processada com **TF-IDF (1–3-grams)** e testada em dois baselines de classificação multilabel.\n",
    "\n",
    "- **Modelos avaliados**  \n",
    "  - **LinearSVC (One-vs-Rest)**  \n",
    "    - F1-micro ≈ **0.48**  \n",
    "    - F1-macro ≈ **0.23**  \n",
    "    - Muito bom em `Drama` (F1=0.82), razoável em `Adventure` (0.50) e `Crime` (0.43).  \n",
    "    - Fraco ou nulo em gêneros menores como `Fantasy`, `War`, `Thriller`.\n",
    "\n",
    "  - **Logistic Regression (One-vs-Rest, solver saga)**  \n",
    "    - F1-micro ≈ **0.43**  \n",
    "    - F1-macro ≈ **0.30**  \n",
    "    - Melhor recall em algumas classes minoritárias (`Animation`, `Biography`), o que elevou o macro-F1.  \n",
    "    - `Drama` manteve desempenho robusto (F1=0.79).  \n",
    "    - Classes muito pequenas continuaram com desempenho baixo (`Sci-Fi`, `War`).\n",
    "\n",
    "- **Insights do NLP**  \n",
    "  - As sinopses trazem sinais semânticos claros: termos como *war, battle, soldier* indicam gêneros bélicos; *love, family, heart* aparecem em dramas/romances; *alien, space, world* em Sci-Fi.  \n",
    "  - O **desbalanceamento severo** dos gêneros (ex.: `Drama` >> `War`) limita o macro-F1, pois o modelo aprende bem apenas as classes mais frequentes.  \n",
    "  - O **Logistic Regression** mostrou-se mais equilibrado em termos de macro-F1, além de permitir uso de probabilidades para futuros ajustes de limiar por classe.\n",
    "\n",
    "---\n",
    "\n",
    "#### Recomendações baseadas no EDA + NLP\n",
    "- **Para bilheteria**: apostar em gêneros comerciais (Action, Adventure, Sci-Fi, Animation), certificados PG/PG-13 e elencos/diretores com histórico comprovado.  \n",
    "- **Para crítica**: gêneros familiares e históricos tendem a garantir notas mais altas da crítica especializada.  \n",
    "- **Para recomendações gerais**: usar métricas ponderadas como o **IMDb Weighted Rating (WR)**, que equilibra nota e número de votos.  \n",
    "- **Para modelagem de gênero via Overview**: baseline já mostra que o texto é informativo; próximos passos poderiam incluir *threshold tuning*, *SVD* para reduzir dimensionalidade e uso de embeddings pré-treinados (BERT).\n",
    "\n",
    "---\n",
    "\n",
    "#### Conclusão\n",
    "- O dataset é consistente e oferece insumos para entender **popularidade, receita e qualidade crítica**.  \n",
    "- O texto do `Overview` contribui para prever gêneros, mesmo com limitações.  \n",
    "- As diferenças entre F1-micro e F1-macro ressaltam a necessidade de técnicas para lidar com **classes desbalanceadas**.  \n",
    "- Combinando **variáveis tabulares + Overview**, o sistema de recomendação pode ser mais robusto, equilibrando retorno comercial e aprovação crítica."
   ]
  }
 ],
 "metadata": {
  "kernelspec": {
   "display_name": ".venv",
   "language": "python",
   "name": "python3"
  },
  "language_info": {
   "codemirror_mode": {
    "name": "ipython",
    "version": 3
   },
   "file_extension": ".py",
   "mimetype": "text/x-python",
   "name": "python",
   "nbconvert_exporter": "python",
   "pygments_lexer": "ipython3",
   "version": "3.13.7"
  }
 },
 "nbformat": 4,
 "nbformat_minor": 5
}
