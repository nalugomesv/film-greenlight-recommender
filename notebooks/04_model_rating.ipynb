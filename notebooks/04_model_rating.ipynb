{
 "cells": [
  {
   "cell_type": "markdown",
   "id": "1216beb2",
   "metadata": {},
   "source": [
    "# 04 — Modelagem · Film Greenlight Recommender\n",
    "\n",
    "**Objetivo** — Prever `IMDB_Rating` (regressão) a partir de variáveis **tabulares**\n",
    "pré-processadas (conversões, logs, imputações e codificações) e comparar modelos\n",
    "básicos de ML, selecionando o melhor por **RMSE** (com **MAE** como métrica complementar).\n",
    "\n",
    "**Entradas**\n",
    "- Dados: `data/raw/imdb.csv`\n",
    "- Pré-processador tabular: `models/preprocessor_tabular.pkl`\n",
    "- Metadados: `models/meta/{num_cols_base.json, cat_cols.json, keep_genres.json}`\n",
    "\n",
    "**Saídas**\n",
    "- `models/pipeline_imdb_best.pkl` (pipeline completo: preprocessor + modelo)\n",
    "- `models/model_imdb_best.pkl` (apenas o estimador)\n",
    "- `reports/model_selection.csv` (comparação de modelos)\n",
    "- `reports/cv_scores.csv` (validação cruzada do modelo escolhido)\n",
    "\n",
    "**Escopo**\n",
    "- Definir alvo e matriz de features em linha com o pré-processamento tabular.\n",
    "- Comparar modelos: **LinearRegression**, **ElasticNet (GridSearch)**, **RandomForest** e **GradientBoosting**.\n",
    "- Selecionar por **RMSE (5-fold CV)**; reportar **MAE**.\n",
    "- (Opcional) Variante **Tabular + Overview (TF-IDF char 3–5)** para checar ganho marginal.\n",
    "- Persistir artefatos e helper para previsão a partir de dicionário (ex.: *Shawshank*).\n",
    "\n",
    "**Decisões**\n",
    "- **Métrica principal**: RMSE (penaliza mais grandes erros), **MAE** como robusta.\n",
    "- **Regularização**: ElasticNet para lidar com colinearidade e seleção suave de variáveis.\n",
    "- **Evitar leakage**: todo pré-processamento dentro do `Pipeline`.\n",
    "\n",
    "Autora: *Ana Luiza Gomes Vieira* · Execução: *Set/2025*"
   ]
  },
  {
   "cell_type": "markdown",
   "id": "533d171e",
   "metadata": {},
   "source": [
    "# Setup"
   ]
  },
  {
   "cell_type": "code",
   "execution_count": null,
   "id": "c1f50102",
   "metadata": {},
   "outputs": [],
   "source": [
    "# Bibliotecas padrão\n",
    "from pathlib import Path\n",
    "import json\n",
    "import re\n",
    "\n",
    "# Bibliotecas de terceiros\n",
    "import joblib\n",
    "import numpy as np\n",
    "import pandas as pd\n",
    "\n",
    "from sklearn.compose import ColumnTransformer\n",
    "from sklearn.ensemble import GradientBoostingRegressor, RandomForestRegressor\n",
    "from sklearn.linear_model import ElasticNet, LinearRegression\n",
    "from sklearn.metrics import make_scorer, mean_absolute_error, mean_squared_error\n",
    "from sklearn.model_selection import GridSearchCV, KFold, cross_validate, train_test_split\n",
    "from sklearn.pipeline import Pipeline"
   ]
  },
  {
   "cell_type": "code",
   "execution_count": 2,
   "id": "70f75a49",
   "metadata": {},
   "outputs": [],
   "source": [
    "#Configurações globais\n",
    "SEED = 42\n",
    "PROJECT_ROOT = Path.cwd().parent\n",
    "DATA_RAW     = PROJECT_ROOT / \"data\" / \"raw\" / \"imdb.csv\"\n",
    "MODELS_DIR   = PROJECT_ROOT / \"models\"\n",
    "REPORTS_DIR  = PROJECT_ROOT / \"reports\"\n",
    "FEATURES_DIR = PROJECT_ROOT / \"data\" / \"processed\"\n",
    "\n",
    "for p in (MODELS_DIR, REPORTS_DIR, FEATURES_DIR):\n",
    "    p.mkdir(parents=True, exist_ok=True)\n",
    "\n",
    "assert DATA_RAW.exists(), f\"Arquivo não encontrado: {DATA_RAW}\""
   ]
  },
  {
   "cell_type": "code",
   "execution_count": 3,
   "id": "c6b7c097",
   "metadata": {},
   "outputs": [],
   "source": [
    "df = pd.read_csv(DATA_RAW)"
   ]
  },
  {
   "cell_type": "code",
   "execution_count": 4,
   "id": "cbfc11e6",
   "metadata": {},
   "outputs": [],
   "source": [
    "preprocessor_tab = joblib.load(MODELS_DIR / \"preprocessor_tabular.pkl\")\n",
    "with open(MODELS_DIR / \"meta\" / \"num_cols_base.json\", \"r\", encoding=\"utf-8\") as f:\n",
    "    num_cols_base = json.load(f)\n",
    "with open(MODELS_DIR / \"meta\" / \"cat_cols.json\", \"r\", encoding=\"utf-8\") as f:\n",
    "    cat_cols = json.load(f)\n",
    "with open(MODELS_DIR / \"meta\" / \"keep_genres.json\", \"r\", encoding=\"utf-8\") as f:\n",
    "    keep_genres = json.load(f)"
   ]
  },
  {
   "cell_type": "markdown",
   "id": "3b0d049c",
   "metadata": {},
   "source": [
    "## 1. Reconstrução de Features Tabulares"
   ]
  },
  {
   "cell_type": "markdown",
   "id": "8b2dc14c",
   "metadata": {},
   "source": [
    "### 1.1 Helpers de Conversão"
   ]
  },
  {
   "cell_type": "code",
   "execution_count": 5,
   "id": "ef889c69",
   "metadata": {},
   "outputs": [],
   "source": [
    "def to_minutes(runtime: str) -> float:\n",
    "    m = re.search(r\"(\\d+)\", str(runtime))\n",
    "    return float(m.group(1)) if m else np.nan\n",
    "\n",
    "def to_usd(gross: str) -> float:\n",
    "    s = str(gross).replace(\",\", \"\").strip()\n",
    "    return float(s) if s and s.lower() != \"nan\" else np.nan\n",
    "\n",
    "def to_decade(year) -> float:\n",
    "    y = pd.to_numeric(year, errors=\"coerce\")\n",
    "    return np.floor(y/10)*10 if pd.notnull(y) else np.nan\n"
   ]
  },
  {
   "cell_type": "markdown",
   "id": "a32e276c",
   "metadata": {},
   "source": [
    "### 1.2 Conversões/Derivações"
   ]
  },
  {
   "cell_type": "code",
   "execution_count": 6,
   "id": "2c37bd3b",
   "metadata": {},
   "outputs": [],
   "source": [
    "df[\"Runtime_min\"]     = df[\"Runtime\"].apply(to_minutes)\n",
    "df[\"Gross_usd\"]       = df[\"Gross\"].apply(to_usd)\n",
    "df[\"Released_Year\"]   = pd.to_numeric(df[\"Released_Year\"], errors=\"coerce\")\n",
    "df[\"Decade\"]          = df[\"Released_Year\"].apply(to_decade)\n",
    "df[\"No_of_Votes_log\"] = np.log1p(df[\"No_of_Votes\"])\n",
    "df[\"Gross_usd_log\"]   = np.log1p(df[\"Gross_usd\"])"
   ]
  },
  {
   "cell_type": "markdown",
   "id": "c76cba9c",
   "metadata": {},
   "source": [
    "### 1.3 Gêneros (multi-hot) com as Mesmas Colunas"
   ]
  },
  {
   "cell_type": "code",
   "execution_count": 7,
   "id": "f828a3b8",
   "metadata": {},
   "outputs": [],
   "source": [
    "g = df[\"Genre\"].astype(str).str.get_dummies(sep=\", \")\n",
    "for c in keep_genres:\n",
    "    if c not in g.columns:\n",
    "        g[c] = 0\n",
    "genre_dum = g[keep_genres].astype(int)"
   ]
  },
  {
   "cell_type": "markdown",
   "id": "bc561b26",
   "metadata": {},
   "source": [
    "### 1.4 Matriz de Features Final"
   ]
  },
  {
   "cell_type": "code",
   "execution_count": 8,
   "id": "00211307",
   "metadata": {},
   "outputs": [],
   "source": [
    "features_df = pd.concat([df[num_cols_base], genre_dum, df[cat_cols]], axis=1)"
   ]
  },
  {
   "cell_type": "markdown",
   "id": "18bbb4d0",
   "metadata": {},
   "source": [
    "### 1.4 Definição do Alvo e Split Holdout"
   ]
  },
  {
   "cell_type": "code",
   "execution_count": null,
   "id": "9c41c0b4",
   "metadata": {},
   "outputs": [],
   "source": [
    "target = \"IMDB_Rating\"\n",
    "data = pd.concat([features_df, df[[target]]], axis=1).dropna(subset=[target])\n",
    "X = data.drop(columns=[target])\n",
    "y = data[target].astype(float)\n",
    "\n",
    "X_train, X_test, y_train, y_test = train_test_split(\n",
    "    X, y, test_size=0.20, random_state=SEED\n",
    ")"
   ]
  },
  {
   "cell_type": "markdown",
   "id": "e4cd4eab",
   "metadata": {},
   "source": [
    "## 2. Modelos e Métricas"
   ]
  },
  {
   "cell_type": "markdown",
   "id": "82202a21",
   "metadata": {},
   "source": [
    "### 2.1 Métricas (RMSE/MAE)"
   ]
  },
  {
   "cell_type": "code",
   "execution_count": 10,
   "id": "30fe944b",
   "metadata": {},
   "outputs": [],
   "source": [
    "def rmse_fn(y_true, y_pred):\n",
    "    return np.sqrt(mean_squared_error(y_true, y_pred))\n",
    "\n",
    "scoring = {\n",
    "    \"rmse\": make_scorer(rmse_fn, greater_is_better=False),\n",
    "    \"mae\":  make_scorer(mean_absolute_error, greater_is_better=False),\n",
    "}"
   ]
  },
  {
   "cell_type": "markdown",
   "id": "09495cc0",
   "metadata": {},
   "source": [
    "### 2.2 Pipelines por Modelo"
   ]
  },
  {
   "cell_type": "code",
   "execution_count": null,
   "id": "22755558",
   "metadata": {},
   "outputs": [],
   "source": [
    "pipe_lr = Pipeline([(\"prep\", preprocessor_tab), (\"model\", LinearRegression())])\n",
    "\n",
    "pipe_en = Pipeline([(\"prep\", preprocessor_tab),\n",
    "                    (\"model\", ElasticNet(random_state=SEED, max_iter=5000))])\n",
    "\n",
    "pipe_rf = Pipeline([(\"prep\", preprocessor_tab),\n",
    "                    (\"model\", RandomForestRegressor(\n",
    "                        n_estimators=400, random_state=SEED, n_jobs=-1\n",
    "                    ))])\n",
    "\n",
    "pipe_gb = Pipeline([(\"prep\", preprocessor_tab),\n",
    "                    (\"model\", GradientBoostingRegressor(random_state=SEED))])"
   ]
  },
  {
   "cell_type": "markdown",
   "id": "7dcc365f",
   "metadata": {},
   "source": [
    "### 2.3 Espaço de busca (ElasticNet)"
   ]
  },
  {
   "cell_type": "code",
   "execution_count": null,
   "id": "78bf1aca",
   "metadata": {},
   "outputs": [],
   "source": [
    "param_grid_en = {\n",
    "    \"model__alpha\":    [0.01, 0.05, 0.1, 0.3, 1.0],\n",
    "    \"model__l1_ratio\": [0.1, 0.3, 0.5, 0.7, 0.9],\n",
    "}\n",
    "\n",
    "cv = KFold(n_splits=5, shuffle=True, random_state=SEED)"
   ]
  },
  {
   "cell_type": "markdown",
   "id": "ea71b113",
   "metadata": {},
   "source": [
    "## 3. Seleção de modelo (5-fold CV)"
   ]
  },
  {
   "cell_type": "code",
   "execution_count": 13,
   "id": "5f2d6687",
   "metadata": {},
   "outputs": [],
   "source": [
    "rows = []"
   ]
  },
  {
   "cell_type": "markdown",
   "id": "87e0f191",
   "metadata": {},
   "source": [
    "### 3.1 Avaliação dos Candidatos"
   ]
  },
  {
   "cell_type": "code",
   "execution_count": null,
   "id": "a05108da",
   "metadata": {},
   "outputs": [],
   "source": [
    "# LinearRegression (sem grid)\n",
    "cv_lr = cross_validate(pipe_lr, X, y, scoring=scoring, cv=cv, n_jobs=-1)\n",
    "rows.append({\n",
    "    \"model\": \"LinearRegression\",\n",
    "    \"RMSE(mean)\": -cv_lr[\"test_rmse\"].mean(),\n",
    "    \"RMSE(std)\":  cv_lr[\"test_rmse\"].std(),\n",
    "    \"MAE(mean)\":  -cv_lr[\"test_mae\"].mean(),\n",
    "})\n"
   ]
  },
  {
   "cell_type": "code",
   "execution_count": null,
   "id": "d85ace7f",
   "metadata": {},
   "outputs": [],
   "source": [
    "# ElasticNet (com grid por RMSE)\n",
    "gs_en = GridSearchCV(\n",
    "    pipe_en, param_grid=param_grid_en,\n",
    "    scoring={\"rmse\": scoring[\"rmse\"], \"mae\": scoring[\"mae\"]},\n",
    "    refit=\"rmse\", cv=cv, n_jobs=-1, verbose=0\n",
    ")\n",
    "gs_en.fit(X_train, y_train)\n",
    "best_en = gs_en.best_estimator_\n",
    "\n",
    "cv_en = cross_validate(best_en, X, y, scoring=scoring, cv=cv, n_jobs=-1)\n",
    "rows.append({\n",
    "    \"model\": f\"ElasticNet{gs_en.best_params_}\",\n",
    "    \"RMSE(mean)\": -cv_en[\"test_rmse\"].mean(),\n",
    "    \"RMSE(std)\":  cv_en[\"test_rmse\"].std(),\n",
    "    \"MAE(mean)\":  -cv_en[\"test_mae\"].mean(),\n",
    "})"
   ]
  },
  {
   "cell_type": "code",
   "execution_count": null,
   "id": "ed70f34e",
   "metadata": {},
   "outputs": [],
   "source": [
    "# RandomForest\n",
    "cv_rf = cross_validate(pipe_rf, X, y, scoring=scoring, cv=cv, n_jobs=-1)\n",
    "rows.append({\n",
    "    \"model\": \"RandomForest(n=400)\",\n",
    "    \"RMSE(mean)\": -cv_rf[\"test_rmse\"].mean(),\n",
    "    \"RMSE(std)\":  cv_rf[\"test_rmse\"].std(),\n",
    "    \"MAE(mean)\":  -cv_rf[\"test_mae\"].mean(),\n",
    "})\n"
   ]
  },
  {
   "cell_type": "code",
   "execution_count": 38,
   "id": "14d28e9b",
   "metadata": {},
   "outputs": [],
   "source": [
    "# GradientBoosting\n",
    "cv_gb = cross_validate(pipe_gb, X, y, scoring=scoring, cv=cv, n_jobs=-1)\n",
    "rows.append({\n",
    "    \"model\": \"GradientBoosting\",\n",
    "    \"RMSE(mean)\": -cv_gb[\"test_rmse\"].mean(),\n",
    "    \"RMSE(std)\":  cv_gb[\"test_rmse\"].std(),\n",
    "    \"MAE(mean)\":  -cv_gb[\"test_mae\"].mean(),\n",
    "})"
   ]
  },
  {
   "cell_type": "markdown",
   "id": "abb47f4c",
   "metadata": {},
   "source": [
    "### 3.2 Tabela comparativa e persistência"
   ]
  },
  {
   "cell_type": "code",
   "execution_count": 39,
   "id": "d4d126ac",
   "metadata": {},
   "outputs": [
    {
     "data": {
      "text/html": [
       "<div>\n",
       "<style scoped>\n",
       "    .dataframe tbody tr th:only-of-type {\n",
       "        vertical-align: middle;\n",
       "    }\n",
       "\n",
       "    .dataframe tbody tr th {\n",
       "        vertical-align: top;\n",
       "    }\n",
       "\n",
       "    .dataframe thead th {\n",
       "        text-align: right;\n",
       "    }\n",
       "</style>\n",
       "<table border=\"1\" class=\"dataframe\">\n",
       "  <thead>\n",
       "    <tr style=\"text-align: right;\">\n",
       "      <th></th>\n",
       "      <th>model</th>\n",
       "      <th>RMSE(mean)</th>\n",
       "      <th>RMSE(std)</th>\n",
       "      <th>MAE(mean)</th>\n",
       "    </tr>\n",
       "  </thead>\n",
       "  <tbody>\n",
       "    <tr>\n",
       "      <th>3</th>\n",
       "      <td>GradientBoosting</td>\n",
       "      <td>0.186222</td>\n",
       "      <td>0.007782</td>\n",
       "      <td>0.148407</td>\n",
       "    </tr>\n",
       "    <tr>\n",
       "      <th>4</th>\n",
       "      <td>GradientBoosting</td>\n",
       "      <td>0.186222</td>\n",
       "      <td>0.007782</td>\n",
       "      <td>0.148407</td>\n",
       "    </tr>\n",
       "    <tr>\n",
       "      <th>2</th>\n",
       "      <td>RandomForest(n=400)</td>\n",
       "      <td>0.189994</td>\n",
       "      <td>0.005732</td>\n",
       "      <td>0.151681</td>\n",
       "    </tr>\n",
       "    <tr>\n",
       "      <th>1</th>\n",
       "      <td>ElasticNet{'model__alpha': 0.01, 'model__l1_ra...</td>\n",
       "      <td>0.197455</td>\n",
       "      <td>0.008659</td>\n",
       "      <td>0.158237</td>\n",
       "    </tr>\n",
       "    <tr>\n",
       "      <th>0</th>\n",
       "      <td>LinearRegression</td>\n",
       "      <td>0.198497</td>\n",
       "      <td>0.008915</td>\n",
       "      <td>0.158069</td>\n",
       "    </tr>\n",
       "  </tbody>\n",
       "</table>\n",
       "</div>"
      ],
      "text/plain": [
       "                                               model  RMSE(mean)  RMSE(std)  \\\n",
       "3                                   GradientBoosting    0.186222   0.007782   \n",
       "4                                   GradientBoosting    0.186222   0.007782   \n",
       "2                                RandomForest(n=400)    0.189994   0.005732   \n",
       "1  ElasticNet{'model__alpha': 0.01, 'model__l1_ra...    0.197455   0.008659   \n",
       "0                                   LinearRegression    0.198497   0.008915   \n",
       "\n",
       "   MAE(mean)  \n",
       "3   0.148407  \n",
       "4   0.148407  \n",
       "2   0.151681  \n",
       "1   0.158237  \n",
       "0   0.158069  "
      ]
     },
     "execution_count": 39,
     "metadata": {},
     "output_type": "execute_result"
    }
   ],
   "source": [
    "sel_df = pd.DataFrame(rows).sort_values(\"RMSE(mean)\")\n",
    "sel_df.to_csv(REPORTS_DIR / \"model_selection.csv\", index=False)\n",
    "sel_df"
   ]
  },
  {
   "cell_type": "markdown",
   "id": "0e971905",
   "metadata": {},
   "source": [
    "## 4. Treino final e validação"
   ]
  },
  {
   "cell_type": "code",
   "execution_count": 18,
   "id": "be04a275",
   "metadata": {},
   "outputs": [
    {
     "name": "stdout",
     "output_type": "stream",
     "text": [
      "[holdout] GradientBoosting | MAE=0.1548 | RMSE=0.1954\n"
     ]
    }
   ],
   "source": [
    "best_name = sel_df.iloc[0][\"model\"]\n",
    "\n",
    "if best_name.startswith(\"ElasticNet\"):\n",
    "    best_pipe = best_en\n",
    "elif best_name.startswith(\"RandomForest\"):\n",
    "    best_pipe = pipe_rf\n",
    "elif best_name.startswith(\"GradientBoosting\"):\n",
    "    best_pipe = pipe_gb\n",
    "else:\n",
    "    best_pipe = pipe_lr\n",
    "\n",
    "best_pipe.fit(X_train, y_train)\n",
    "y_hat = best_pipe.predict(X_test)\n",
    "\n",
    "mae  = mean_absolute_error(y_test, y_hat)\n",
    "rmse = rmse_fn(y_test, y_hat)\n",
    "print(f\"[holdout] {best_name} | MAE={mae:.4f} | RMSE={rmse:.4f}\")"
   ]
  },
  {
   "cell_type": "markdown",
   "id": "c0107326",
   "metadata": {},
   "source": [
    "### 4.2 Salvar artefatos do modelo"
   ]
  },
  {
   "cell_type": "code",
   "execution_count": 19,
   "id": "5ada0f5a",
   "metadata": {},
   "outputs": [
    {
     "name": "stdout",
     "output_type": "stream",
     "text": [
      "[ok] pipeline/model salvos em models/\n"
     ]
    }
   ],
   "source": [
    "joblib.dump(best_pipe, MODELS_DIR / \"pipeline_imdb_best.pkl\")\n",
    "joblib.dump(best_pipe.named_steps[\"model\"], MODELS_DIR / \"model_imdb_best.pkl\")\n",
    "print(\"[ok] pipeline/model salvos em models/\")"
   ]
  },
  {
   "cell_type": "markdown",
   "id": "42485670",
   "metadata": {},
   "source": [
    "### 4.3 Validação cruzada do modelo escolhido"
   ]
  },
  {
   "cell_type": "code",
   "execution_count": 20,
   "id": "d5ca6450",
   "metadata": {},
   "outputs": [
    {
     "data": {
      "text/html": [
       "<div>\n",
       "<style scoped>\n",
       "    .dataframe tbody tr th:only-of-type {\n",
       "        vertical-align: middle;\n",
       "    }\n",
       "\n",
       "    .dataframe tbody tr th {\n",
       "        vertical-align: top;\n",
       "    }\n",
       "\n",
       "    .dataframe thead th {\n",
       "        text-align: right;\n",
       "    }\n",
       "</style>\n",
       "<table border=\"1\" class=\"dataframe\">\n",
       "  <thead>\n",
       "    <tr style=\"text-align: right;\">\n",
       "      <th></th>\n",
       "      <th>RMSE</th>\n",
       "      <th>MAE</th>\n",
       "    </tr>\n",
       "  </thead>\n",
       "  <tbody>\n",
       "    <tr>\n",
       "      <th>mean</th>\n",
       "      <td>0.1862</td>\n",
       "      <td>0.1484</td>\n",
       "    </tr>\n",
       "    <tr>\n",
       "      <th>std</th>\n",
       "      <td>0.0087</td>\n",
       "      <td>0.0059</td>\n",
       "    </tr>\n",
       "  </tbody>\n",
       "</table>\n",
       "</div>"
      ],
      "text/plain": [
       "        RMSE     MAE\n",
       "mean  0.1862  0.1484\n",
       "std   0.0087  0.0059"
      ]
     },
     "execution_count": 20,
     "metadata": {},
     "output_type": "execute_result"
    }
   ],
   "source": [
    "cv_best = cross_validate(best_pipe, X, y, scoring=scoring, cv=cv, n_jobs=-1)\n",
    "cv_out = pd.DataFrame({\n",
    "    \"RMSE\": -cv_best[\"test_rmse\"],\n",
    "    \"MAE\":  -cv_best[\"test_mae\"],\n",
    "})\n",
    "cv_out.to_csv(REPORTS_DIR / \"cv_scores.csv\", index=False)\n",
    "cv_out.describe().loc[[\"mean\",\"std\"]].round(4)\n"
   ]
  },
  {
   "cell_type": "markdown",
   "id": "461f9ef8",
   "metadata": {},
   "source": [
    "## 5. Inferência"
   ]
  },
  {
   "cell_type": "code",
   "execution_count": 34,
   "id": "f2a3ab87",
   "metadata": {},
   "outputs": [],
   "source": [
    "def _load_meta(models_dir: Path):\n",
    "    with open(models_dir / \"meta\" / \"num_cols_base.json\", \"r\", encoding=\"utf-8\") as f:\n",
    "        num_cols_base = json.load(f)\n",
    "    with open(models_dir / \"meta\" / \"cat_cols.json\", \"r\", encoding=\"utf-8\") as f:\n",
    "        cat_cols = json.load(f)\n",
    "    with open(models_dir / \"meta\" / \"keep_genres.json\", \"r\", encoding=\"utf-8\") as f:\n",
    "        keep_genres = json.load(f)\n",
    "    return num_cols_base, cat_cols, keep_genres"
   ]
  },
  {
   "cell_type": "markdown",
   "id": "16377623",
   "metadata": {},
   "source": [
    "### 5.1 Helper row_from_dict"
   ]
  },
  {
   "cell_type": "code",
   "execution_count": 35,
   "id": "849a765e",
   "metadata": {},
   "outputs": [],
   "source": [
    "def row_from_dict(sample: dict,\n",
    "                  num_cols_base=None,\n",
    "                  cat_cols=None,\n",
    "                  keep_genres=None,\n",
    "                  models_dir: Path | None = None) -> pd.DataFrame:\n",
    "\n",
    "    if (num_cols_base is None) or (cat_cols is None) or (keep_genres is None):\n",
    "        if models_dir is None:\n",
    "            models_dir = Path.cwd().parent / \"models\"\n",
    "            if not models_dir.exists():\n",
    "                models_dir = Path(\"models\")\n",
    "        num_cols_base, cat_cols, keep_genres = _load_meta(models_dir)\n",
    "\n",
    "    row = pd.DataFrame([sample]).copy()\n",
    "\n",
    "    def _to_minutes(runtime: str) -> float:\n",
    "        m = re.search(r\"(\\d+)\", str(runtime))\n",
    "        return float(m.group(1)) if m else np.nan\n",
    "\n",
    "    def _to_usd(gross: str) -> float:\n",
    "        s = str(gross).replace(\",\", \"\").strip()\n",
    "        return float(s) if s and s.lower() != \"nan\" else np.nan\n",
    "\n",
    "    def _to_decade(year) -> float:\n",
    "        y = pd.to_numeric(year, errors=\"coerce\")\n",
    "        return np.floor(y/10)*10 if pd.notnull(y) else np.nan\n",
    "\n",
    "    row[\"Runtime_min\"]     = row.get(\"Runtime\", np.nan).apply(_to_minutes)\n",
    "    row[\"Gross_usd\"]       = row.get(\"Gross\", np.nan).apply(_to_usd)\n",
    "    row[\"Released_Year\"]   = pd.to_numeric(row.get(\"Released_Year\", np.nan), errors=\"coerce\")\n",
    "    row[\"Decade\"]          = row[\"Released_Year\"].apply(_to_decade)\n",
    "    row[\"No_of_Votes\"]     = pd.to_numeric(row.get(\"No_of_Votes\", np.nan), errors=\"coerce\")\n",
    "    row[\"No_of_Votes_log\"] = np.log1p(row[\"No_of_Votes\"])\n",
    "    row[\"Gross_usd_log\"]   = np.log1p(row[\"Gross_usd\"])\n",
    "\n",
    "    g = row.get(\"Genre\", \"\").astype(str).str.get_dummies(sep=\", \")\n",
    "    for c in keep_genres:\n",
    "        row[c] = g[c] if c in g.columns else 0\n",
    "\n",
    "    for c in cat_cols:\n",
    "        if c not in row.columns:\n",
    "            row[c] = np.nan\n",
    "\n",
    "    X_row = pd.concat([row[num_cols_base], row[keep_genres], row[cat_cols]], axis=1)\n",
    "\n",
    "    expected = set(num_cols_base + keep_genres + cat_cols)\n",
    "    missing  = [c for c in expected if c not in X_row.columns]\n",
    "    if missing:\n",
    "        raise ValueError(f\"Colunas ausentes na amostra: {missing}\")\n",
    "\n",
    "    return X_row"
   ]
  },
  {
   "cell_type": "markdown",
   "id": "24edffb4",
   "metadata": {},
   "source": [
    "### 5.2 Exemplo: The Shawshank Redemption"
   ]
  },
  {
   "cell_type": "code",
   "execution_count": null,
   "id": "846eaa5e",
   "metadata": {},
   "outputs": [],
   "source": [
    "shaw = {\n",
    " 'Series_Title': 'The Shawshank Redemption',\n",
    " 'Released_Year': 1994,\n",
    " 'Certificate': 'A',\n",
    " 'Runtime': '142 min',\n",
    " 'Genre': 'Drama',\n",
    " 'Overview': 'Two imprisoned men bond over a number of years, finding solace and eventual redemption through acts of common decency.',\n",
    " 'Meta_score': 80.0,\n",
    " 'Director': 'Frank Darabont',\n",
    " 'Star1': 'Tim Robbins',\n",
    " 'Star2': 'Morgan Freeman',\n",
    " 'Star3': 'Bob Gunton',\n",
    " 'Star4': 'William Sadler',\n",
    " 'No_of_Votes': 2343110,\n",
    " 'Gross': '28,341,469'\n",
    "}"
   ]
  },
  {
   "cell_type": "code",
   "execution_count": 37,
   "id": "09247d21",
   "metadata": {},
   "outputs": [
    {
     "name": "stdout",
     "output_type": "stream",
     "text": [
      "Pred(IMDB_Rating) — Shawshank: 8.804\n"
     ]
    }
   ],
   "source": [
    "X_row = row_from_dict(shaw, models_dir=MODELS_DIR)\n",
    "pred  = float(best_pipe.predict(X_row)[0])\n",
    "print(\"Pred(IMDB_Rating) — Shawshank:\", round(pred, 3))"
   ]
  },
  {
   "cell_type": "markdown",
   "id": "451ea49c",
   "metadata": {},
   "source": [
    "## Análise e Discussão\n",
    "\n",
    "A modelagem teve como objetivo prever a nota `IMDB_Rating` a partir de variáveis\n",
    "tabulares transformadas e derivadas no pipeline reprodutível. Foram comparados\n",
    "modelos lineares e de ensemble, com a seguinte hierarquia de resultados:\n",
    "\n",
    "- **GradientBoostingRegressor** apresentou o menor **RMSE médio (0.1862)** e\n",
    "também o menor **MAE (0.1484)**, demonstrando capacidade superior de capturar\n",
    "não linearidades e interações entre variáveis, mesmo em um conjunto de dados\n",
    "relativamente pequeno.\n",
    "- **RandomForestRegressor** obteve desempenho próximo, mas com maior variância\n",
    "nos folds.\n",
    "- **ElasticNet** e **LinearRegression** serviram como baselines lineares; ambos\n",
    "mostraram desempenho inferior, reforçando a importância de modelos mais flexíveis.\n",
    "\n",
    "### Fatores mais relevantes\n",
    "A coerência entre os resultados da regressão e os achados do EDA reforça a\n",
    "validade do pipeline:\n",
    "- **`No_of_Votes_log`**: variáveis de popularidade estão fortemente associadas\n",
    "às notas, refletindo o peso do engajamento do público.\n",
    "- **`Gross_usd_log`**: receita de bilheteria explica parcialmente a avaliação,\n",
    "mas sofre influência de fatores externos (ex.: marketing, distribuição).\n",
    "- **`Meta_score`**: quando presente, fornece forte sinal de crítica especializada.\n",
    "- **`Decade`** e **`Certificate`**: efeitos temporais e etários ajudam a capturar\n",
    "mudanças de tendência e restrições de público.\n",
    "- **Gêneros multi-hot**: adicionam variação explicativa, especialmente para\n",
    "dramas, aventuras e thrillers, desde que mantidos com suporte mínimo.\n",
    "\n",
    "### Métricas\n",
    "- O **RMSE ≈ 0.19** indica que o erro típico do modelo é da ordem de **±0.2 pontos**\n",
    "na escala de 1 a 10, valor adequado considerando a faixa de notas encontrada no\n",
    "dataset (≈ 7.6 a 9.2).\n",
    "- O **MAE ≈ 0.15** reforça a robustez contra outliers e confirma que o modelo\n",
    "mantém erros absolutos médios relativamente baixos.\n",
    "\n",
    "### Predição exemplar\n",
    "Para o filme *The Shawshank Redemption*, o pipeline estimou uma nota de:\n",
    "`Pred(IMDB_Rating) = 8.804`\n",
    "\n",
    "\n",
    "Esse valor é altamente consistente com o status do filme como um dos mais bem\n",
    "avaliados da base, dado o gênero (Drama), elevado número de votos e metascore\n",
    "positivo.\n",
    "\n",
    "### Limitações\n",
    "- O modelo depende de variáveis tabulares, sem utilizar ainda a coluna textual\n",
    "`Overview`, que contém sinais semânticos úteis (identificados no Notebook 02).\n",
    "- Há potencial de **leakage** se variáveis derivadas não forem controladas em\n",
    "produção, o que foi mitigado com persistência do pré-processador e metadados.\n",
    "- A amostra disponível apresenta viés: apenas filmes populares estão na base,\n",
    "com notas geralmente altas (≥ 7), limitando a generalização.\n",
    "\n",
    "### Próximos passos\n",
    "- **Integração com Overview**: plugar TF-IDF (ou embeddings como BERT) no\n",
    "`ColumnTransformer`, avaliando ganhos em RMSE/MAE.\n",
    "- **Modelos mais avançados**: testar CatBoost/XGBoost/LightGBM para ensembles\n",
    "mais robustos em tabular + texto.\n",
    "- **Tuning mais profundo**: expandir grids de hiperparâmetros para ensembles e\n",
    "regularização.\n",
    "- **Explainability**: aplicar SHAP ou Permutation Importance para identificar\n",
    "quais variáveis contribuem mais na predição das notas.\n",
    "\n",
    "---\n",
    "\n",
    "## Conclusão\n",
    "\n",
    "O pipeline desenvolvido é reprodutível, robusto e capaz de prever as notas de\n",
    "filmes no IMDb com erro médio em torno de **±0.2 pontos**, o que já fornece\n",
    "insumos valiosos para orientar decisões de investimento em novos projetos.\n",
    "Embora o uso apenas de variáveis tabulares seja suficiente para um baseline\n",
    "sólido, a inclusão do `Overview` e o refinamento de ensembles podem ampliar a\n",
    "capacidade preditiva, aproximando ainda mais o sistema da complexidade do\n",
    "mercado cinematográfico.\n",
    "\n"
   ]
  }
 ],
 "metadata": {
  "kernelspec": {
   "display_name": ".venv",
   "language": "python",
   "name": "python3"
  },
  "language_info": {
   "codemirror_mode": {
    "name": "ipython",
    "version": 3
   },
   "file_extension": ".py",
   "mimetype": "text/x-python",
   "name": "python",
   "nbconvert_exporter": "python",
   "pygments_lexer": "ipython3",
   "version": "3.13.7"
  }
 },
 "nbformat": 4,
 "nbformat_minor": 5
}
